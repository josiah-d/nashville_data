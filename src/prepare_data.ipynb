{
 "cells": [
  {
   "cell_type": "code",
   "execution_count": 1,
   "id": "89a0735b-0bc0-43b0-acf2-77be97d8739f",
   "metadata": {},
   "outputs": [],
   "source": [
    "import pandas as pd"
   ]
  },
  {
   "cell_type": "code",
   "execution_count": 2,
   "id": "37dcd16f-d643-4d36-b411-87ba65551d83",
   "metadata": {},
   "outputs": [],
   "source": [
    "data_path = '/Users/josiah/nashville_data/data/Metro_Nashville_Police_Department_Calls_for_Service.csv'"
   ]
  },
  {
   "cell_type": "code",
   "execution_count": 3,
   "id": "93733b7f-616b-4a76-963d-6a891adddc43",
   "metadata": {},
   "outputs": [],
   "source": [
    "%%capture --no-display\n",
    "\n",
    "df = pd.read_csv(data_path)"
   ]
  },
  {
   "cell_type": "code",
   "execution_count": 4,
   "id": "88fd4952-e207-4a48-a487-0d6b54bd8565",
   "metadata": {},
   "outputs": [],
   "source": [
    "# drop unwated/need columns\n",
    "drop_columns = ['Tencode Description', 'Tencode Suffix', 'Tencode Suffix Description',\n",
    "                'Disposition Description', 'Block', 'Street Name', 'Sector', 'Zone',\n",
    "                'RPA','Mapped Location']\n",
    "\n",
    "df.drop(drop_columns, axis=1, inplace=True)"
   ]
  },
  {
   "cell_type": "code",
   "execution_count": 14,
   "id": "55f91944-3987-434f-8ec0-4b1eb785f1be",
   "metadata": {},
   "outputs": [],
   "source": [
    "# remove alpha portion of disposition code for simplicity\n",
    "df['Disposition Code'] = df['Disposition Code'].apply(lambda x: str(x)[:-1] if str(x)[-1].isalpha() else x)"
   ]
  },
  {
   "cell_type": "code",
   "execution_count": 15,
   "id": "12fdf621-0381-4a4f-b84e-28619d95f49d",
   "metadata": {},
   "outputs": [],
   "source": [
    "# split data into violent, medical, and vehicle dataframes\n",
    "theft = df.loc[df['Tencode'].isin([50, 70, 71, 72, 1000])]\n",
    "vehicle = df.loc[df['Tencode'].isin([32, 45, 46, 93])]\n",
    "violent = df.loc[df['Tencode'].isin([13, 51, 52, 53, 54, 57, 66, 68, 83, 4000, 6000, 9000])]"
   ]
  },
  {
   "cell_type": "code",
   "execution_count": 16,
   "id": "0d000d48-8265-4861-af5c-158aa68d17d1",
   "metadata": {},
   "outputs": [],
   "source": [
    "def save(df_, name):\n",
    "    path = f'/Users/josiah/nashville_data/data/{name}.csv'\n",
    "    df_.to_csv(path, index=False)"
   ]
  },
  {
   "cell_type": "code",
   "execution_count": 17,
   "id": "f94bfc13-b495-404a-88a5-42559a44864a",
   "metadata": {},
   "outputs": [],
   "source": [
    "def clean_df(df_, name):\n",
    "    \"\"\"Cleans and prepares to save the dataframe:\n",
    "        * Converts 'Call Received' to datetime object.\n",
    "        * Removes duplicate 'Event Number', kepping the one with the fewest NaNs.\n",
    "        * Sort by oldest to newest.\n",
    "        * Saves the data from to a .csv.\"\"\"\n",
    "    df_['Call Received'] = pd.to_datetime(df_['Call Received'])\n",
    "    df_ = df_.loc[df_.notnull().sum(1).groupby(df_['Event Number']).idxmax()]\n",
    "    df_ = df_.sort_values('Call Received')\n",
    "    save(df_, name)"
   ]
  },
  {
   "cell_type": "code",
   "execution_count": 18,
   "id": "143ad940-5c53-462a-9955-2f1331a762b1",
   "metadata": {},
   "outputs": [],
   "source": [
    "%%capture --no-display\n",
    "\n",
    "clean_df(theft, 'theft')\n",
    "clean_df(vehicle, 'vehicle')\n",
    "clean_df(violent, 'violent')"
   ]
  },
  {
   "cell_type": "code",
   "execution_count": null,
   "id": "ad844462-e258-4164-a5b3-b3d0e90dd2ef",
   "metadata": {},
   "outputs": [],
   "source": []
  }
 ],
 "metadata": {
  "kernelspec": {
   "display_name": "Python 3 (ipykernel)",
   "language": "python",
   "name": "python3"
  },
  "language_info": {
   "codemirror_mode": {
    "name": "ipython",
    "version": 3
   },
   "file_extension": ".py",
   "mimetype": "text/x-python",
   "name": "python",
   "nbconvert_exporter": "python",
   "pygments_lexer": "ipython3",
   "version": "3.8.12"
  }
 },
 "nbformat": 4,
 "nbformat_minor": 5
}
