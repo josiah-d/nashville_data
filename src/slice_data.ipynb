{
 "cells": [
  {
   "cell_type": "code",
   "execution_count": 1,
   "id": "89a0735b-0bc0-43b0-acf2-77be97d8739f",
   "metadata": {},
   "outputs": [],
   "source": [
    "# imports\n",
    "import pandas as pd"
   ]
  },
  {
   "cell_type": "code",
   "execution_count": null,
   "id": "f9ebe98e-2a1d-4f87-ae11-1b13c610f31a",
   "metadata": {},
   "outputs": [],
   "source": []
  },
  {
   "cell_type": "code",
   "execution_count": 3,
   "id": "37dcd16f-d643-4d36-b411-87ba65551d83",
   "metadata": {},
   "outputs": [],
   "source": [
    "data_path = '/Users/josiah/nashville_data/data/Metro_Nashville_Police_Department_Calls_for_Service.csv'"
   ]
  },
  {
   "cell_type": "code",
   "execution_count": 4,
   "id": "93733b7f-616b-4a76-963d-6a891adddc43",
   "metadata": {},
   "outputs": [
    {
     "name": "stderr",
     "output_type": "stream",
     "text": [
      "/Users/josiah/opt/anaconda3/lib/python3.8/site-packages/IPython/core/interactiveshell.py:3444: DtypeWarning: Columns (10,14,18) have mixed types.Specify dtype option on import or set low_memory=False.\n",
      "  exec(code_obj, self.user_global_ns, self.user_ns)\n"
     ]
    }
   ],
   "source": [
    "df = pd.read_csv(data_path)"
   ]
  },
  {
   "cell_type": "code",
   "execution_count": 7,
   "id": "862f17e2-a232-436f-aede-b18a1b153b42",
   "metadata": {},
   "outputs": [],
   "source": [
    "df_slice = df.sample(n=10000)"
   ]
  },
  {
   "cell_type": "code",
   "execution_count": 10,
   "id": "2f026ee5-c376-4b90-b5ae-5884eff66095",
   "metadata": {},
   "outputs": [],
   "source": [
    "export_path = '/Users/josiah/nashville_data/data/nashville_pd_slice.csv'"
   ]
  },
  {
   "cell_type": "code",
   "execution_count": 13,
   "id": "b72f0bf1-3fd6-4d30-a6e0-9cf7c95868d0",
   "metadata": {},
   "outputs": [],
   "source": [
    "df_slice.to_csv(export_path, index=False)"
   ]
  },
  {
   "cell_type": "code",
   "execution_count": 14,
   "id": "71197281-96f6-4392-b093-b825213537a4",
   "metadata": {},
   "outputs": [
    {
     "data": {
      "text/plain": [
       "(6374126, 19)"
      ]
     },
     "execution_count": 14,
     "metadata": {},
     "output_type": "execute_result"
    }
   ],
   "source": [
    "df.shape"
   ]
  },
  {
   "cell_type": "code",
   "execution_count": null,
   "id": "8affe139-f500-4658-bae4-f079870dd71b",
   "metadata": {},
   "outputs": [],
   "source": []
  }
 ],
 "metadata": {
  "kernelspec": {
   "display_name": "Python 3 (ipykernel)",
   "language": "python",
   "name": "python3"
  },
  "language_info": {
   "codemirror_mode": {
    "name": "ipython",
    "version": 3
   },
   "file_extension": ".py",
   "mimetype": "text/x-python",
   "name": "python",
   "nbconvert_exporter": "python",
   "pygments_lexer": "ipython3",
   "version": "3.8.12"
  }
 },
 "nbformat": 4,
 "nbformat_minor": 5
}
